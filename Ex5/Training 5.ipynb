{
 "cells": [
  {
   "cell_type": "markdown",
   "metadata": {},
   "source": [
    "\n",
    "# 5. Regularized Linear Regression and Bias vs Variance"
   ]
  },
  {
   "cell_type": "code",
   "execution_count": 2,
   "metadata": {},
   "outputs": [],
   "source": [
    "import os \n",
    "import numpy as np\n",
    "from matplotlib import pyplot\n",
    "from scipy import optimize\n",
    "from scipy.io import loadmat\n",
    "import utils\n",
    "\n",
    "\n",
    "%matplotlib inline"
   ]
  },
  {
   "cell_type": "code",
   "execution_count": 3,
   "metadata": {},
   "outputs": [],
   "source": [
    "data=loadmat(os.path.join(\"Data\",\"ex5data1.mat\"))\n",
    "data\n",
    "X,y=data['X'],data['y'][:, 0]\n",
    "Xtest, ytest=data['Xtest'],data['ytest'][:, 0]\n",
    "Xval, yval= data['Xval'],data['yval'][:, 0]\n",
    "m=y.size"
   ]
  },
  {
   "cell_type": "code",
   "execution_count": 4,
   "metadata": {},
   "outputs": [
    {
     "data": {
      "image/png": "[encoded data removed]",
      "text/plain": [
       "<Figure size 432x288 with 1 Axes>"
      ]
     },
     "metadata": {
      "needs_background": "light"
     },
     "output_type": "display_data"
    }
   ],
   "source": [
    "pyplot.plot(X,y,'go', linewidth=2, markersize=12, mec='k',mew=1)\n",
    "pyplot.xlabel(\"change in water level X\")\n",
    "pyplot.ylabel(\"water flowing out from dam y\");"
   ]
  },
  {
   "cell_type": "markdown",
   "metadata": {},
   "source": [
    "### 1.2 Regularized linear regression cost function\n",
    "\n",
    "Recall that regularized linear regression has the following cost function:\n",
    "\n",
    "$$ J(\\theta) = \\frac{1}{2m} \\left( \\sum_{i=1}^m \\left( h_\\theta\\left( x^{(i)} \\right) - y^{(i)} \\right)^2 \\right) + \\frac{\\lambda}{2m} \\left( \\sum_{j=1}^n \\theta_j^2 \\right)$$\n",
    "\n",
    "where $\\lambda$ is a regularization parameter"
   ]
  },
  {
   "cell_type": "code",
   "execution_count": 5,
   "metadata": {},
   "outputs": [],
   "source": [
    "def linearRegCostFunction(X, y, theta, lambda_=0.0):\n",
    "    m=y.size\n",
    "    J=0\n",
    "    grad=np.zeros(theta.shape)\n",
    "    \n",
    "    h=X.dot(theta)\n",
    "    #h=X.dot(theta)\n",
    "    \n",
    "    \n",
    "    \n",
    "    J=(1/(2*m))*np.sum (np.square(h-y)) +lambda_/(2*m) * np.sum(np.square(theta[1:]))\n",
    "    #J = (1 / (2 * m)) * np.sum(np.square(h - y)) + (lambda_ / (2 * m)) * np.sum(np.square(theta[1:]))\n",
    "    \n",
    "    grad= 1/m* (h-y).dot(X)\n",
    "    #print (grad)\n",
    "    grad[1:]=grad[1:]+(lambda_/m) *theta[1:]\n",
    "    #print(grad)\n",
    "    #print((lambda_/m) *theta[1:])\n",
    "    return J, grad"
   ]
  },
  {
   "cell_type": "markdown",
   "metadata": {},
   "source": [
    "### 1.3 Regularized linear regression gradient\n",
    "\n",
    "Correspondingly, the partial derivative of the cost function for regularized linear regression is defined as:\n",
    "\n",
    "$$\n",
    "\\begin{align}\n",
    "& \\frac{\\partial J(\\theta)}{\\partial \\theta_0} = \\frac{1}{m} \\sum_{i=1}^m \\left( h_\\theta \\left(x^{(i)} \\right) - y^{(i)} \\right) x_j^{(i)} & \\qquad \\text{for } j = 0 \\\\\n",
    "& \\frac{\\partial J(\\theta)}{\\partial \\theta_j} = \\left( \\frac{1}{m} \\sum_{i=1}^m \\left( h_\\theta \\left( x^{(i)} \\right) - y^{(i)} \\right) x_j^{(i)} \\right) + \\frac{\\lambda}{m} \\theta_j & \\qquad \\text{for } j \\ge 1\n",
    "\\end{align}\n",
    "$$"
   ]
  },
  {
   "cell_type": "code",
   "execution_count": 6,
   "metadata": {},
   "outputs": [
    {
     "name": "stdout",
     "output_type": "stream",
     "text": [
      "Cost at theta = [1, 1]:\t   303.993192 \n",
      "This value should be about 303.993192)\n",
      "\n"
     ]
    }
   ],
   "source": [
    "theta = np.array([1, 1])\n",
    "J, _ = linearRegCostFunction(np.concatenate([np.ones((m, 1)), X], axis=1), y, theta, 1)\n",
    "\n",
    "print('Cost at theta = [1, 1]:\\t   %f ' % J)\n",
    "print('This value should be about 303.993192)\\n' % J)"
   ]
  },
  {
   "cell_type": "code",
   "execution_count": 7,
   "metadata": {},
   "outputs": [],
   "source": [
    "X_aug=np.concatenate([np.ones((m,1)),X],axis=1)\n",
    "initial_theta=np.zeros(X_aug.shape[1])\n",
    "lambda_=0.0\n",
    "costFunction=lambda t: linearRegCostFunction(X_aug,y,t,lambda_)\n"
   ]
  },
  {
   "cell_type": "code",
   "execution_count": 8,
   "metadata": {},
   "outputs": [],
   "source": [
    "res = optimize.minimize(costFunction,\n",
    "                        initial_theta,\n",
    "                        jac=True,\n",
    "                        method='TNC',\n",
    "                        options={'maxiter': 100})"
   ]
  },
  {
   "cell_type": "markdown",
   "metadata": {},
   "source": [
    "### Fitting linear regression"
   ]
  },
  {
   "cell_type": "code",
   "execution_count": 9,
   "metadata": {},
   "outputs": [
    {
     "data": {
      "image/png": "[encoded data removed]",
      "text/plain": [
       "<Figure size 432x288 with 1 Axes>"
      ]
     },
     "metadata": {
      "needs_background": "light"
     },
     "output_type": "display_data"
    }
   ],
   "source": [
    "theta=res.x\n",
    "pyplot.plot(X,y,'go',ms='10')\n",
    "pyplot.plot(X,X_aug.dot(theta),'r--',ms='10');"
   ]
  },
  {
   "cell_type": "code",
   "execution_count": 106,
   "metadata": {},
   "outputs": [],
   "source": [
    "a=lambda x: x*2\n"
   ]
  },
  {
   "cell_type": "markdown",
   "metadata": {},
   "source": [
    "## 2 Bias-variance\n",
    "### 2.1 Learning Curves\n",
    "$$ J_{\\text{train}} = \\frac{1}{2m} \\left[ \\sum_{i=1}^m \\left(h_\\theta \\left( x^{(i)} \\right) - y^{(i)} \\right)^2 \\right] $$\n"
   ]
  },
  {
   "cell_type": "code",
   "execution_count": 152,
   "metadata": {},
   "outputs": [],
   "source": [
    "def learningCurve(X, y, Xval, yval, lambda_=0):\n",
    "    # Number of training examples\n",
    "    m = y.size\n",
    "\n",
    "    # You need to return these values correctly\n",
    "    error_train = np.zeros(m)\n",
    "    error_val   = np.zeros(m)\n",
    "    for i in range(1,m+1):\n",
    "        print (i)\n",
    "        Xa_=X[:i]\n",
    "        ya=y[:i]\n",
    "        \n",
    "        #ya=np.array(ya)\n",
    "        #ya.shape\n",
    "        #Xa_=np.concatenate([np.ones((m,1)),Xa],axis=1)\n",
    "        initial_theta=np.zeros(Xa_.shape[1])\n",
    "        #lambda_=0.0\n",
    "        costFunction=lambda t: linearRegCostFunction(Xa_,ya,t,lambda_)\n",
    "        res = optimize.minimize(costFunction,\n",
    "                        initial_theta,\n",
    "                        jac=True,\n",
    "                        method='TNC',\n",
    "                        options={'maxiter': 100})\n",
    "        theta_t=res.x\n",
    "        \n",
    "        #theta_t = utils.trainLinearReg(linearRegCostFunction, X[:i], y[:i], lambda_ = lambda_)\n",
    "        \n",
    "        error_train[i-1], _= linearRegCostFunction(Xa_,ya,theta_t,lambda_=0)\n",
    "        \n",
    "        \n",
    "        error_val[i-1], _=linearRegCostFunction(Xval,yval,theta_t,lambda_=0)\n",
    "        \n",
    "    return error_train, error_val"
   ]
  },
  {
   "cell_type": "code",
   "execution_count": 153,
   "metadata": {},
   "outputs": [
    {
     "name": "stdout",
     "output_type": "stream",
     "text": [
      "1\n",
      "2\n",
      "3\n",
      "4\n",
      "5\n",
      "6\n",
      "7\n",
      "8\n",
      "9\n",
      "10\n",
      "11\n",
      "12\n",
      "# Training Examples\tTrain Error\tCross Validation Error\n",
      "  \t1\t\t0.000000\t205.121096\n",
      "  \t2\t\t0.000000\t110.302641\n",
      "  \t3\t\t3.286595\t45.010231\n",
      "  \t4\t\t2.842678\t48.368910\n",
      "  \t5\t\t13.154049\t35.865165\n",
      "  \t6\t\t19.443963\t33.829962\n",
      "  \t7\t\t20.098522\t31.970986\n",
      "  \t8\t\t18.172859\t30.862446\n",
      "  \t9\t\t22.609405\t31.135998\n",
      "  \t10\t\t23.261462\t28.936207\n",
      "  \t11\t\t24.317250\t29.551432\n",
      "  \t12\t\t22.373906\t29.433818\n"
     ]
    },
    {
     "data": {
      "image/png": "[encoded data removed]",
      "text/plain": [
       "<Figure size 432x288 with 1 Axes>"
      ]
     },
     "metadata": {
      "needs_background": "light"
     },
     "output_type": "display_data"
    }
   ],
   "source": [
    "X_aug = np.concatenate([np.ones((m, 1)), X], axis=1)\n",
    "Xval_aug = np.concatenate([np.ones((yval.size, 1)), Xval], axis=1)\n",
    "error_train, error_val = learningCurve(X_aug, y, Xval_aug, yval, lambda_=0)\n",
    "\n",
    "pyplot.plot(np.arange(1, m+1), error_train, np.arange(1, m+1), error_val, lw=2)\n",
    "pyplot.title('Learning curve for linear regression')\n",
    "pyplot.legend(['Train', 'Cross Validation'])\n",
    "pyplot.xlabel('Number of training examples')\n",
    "pyplot.ylabel('Error')\n",
    "pyplot.axis([0, 13, 0, 150])\n",
    "\n",
    "print('# Training Examples\\tTrain Error\\tCross Validation Error')\n",
    "for i in range(m):\n",
    "    print('  \\t%d\\t\\t%f\\t%f' % (i+1, error_train[i], error_val[i]))"
   ]
  },
  {
   "cell_type": "code",
   "execution_count": 54,
   "metadata": {},
   "outputs": [],
   "source": [
    "np.set_printoptions(suppress=True)"
   ]
  },
  {
   "cell_type": "markdown",
   "metadata": {},
   "source": [
    "\n",
    "## 3 Polynomial regression\n",
    "\n",
    "The problem with our linear model was that it was too simple for the data\n",
    "and resulted in underfitting (high bias). In this part of the exercise, you will address this problem by adding more features. For polynomial regression, our hypothesis has the form:\n",
    "\n",
    "$$\n",
    "\\begin{align}\n",
    "h_\\theta(x)  &= \\theta_0 + \\theta_1 \\times (\\text{waterLevel}) + \\theta_2 \\times (\\text{waterLevel})^2 + \\cdots + \\theta_p \\times (\\text{waterLevel})^p \\\\\n",
    "& = \\theta_0 + \\theta_1 x_1 + \\theta_2 x_2 + \\cdots + \\theta_p x_p\n",
    "\\end{align}\n",
    "$$"
   ]
  },
  {
   "cell_type": "code",
   "execution_count": null,
   "metadata": {},
   "outputs": [],
   "source": [
    "p=5\n",
    "\n",
    "X.shape[0]\n",
    "Xpoly=np.zeros((X.shape[0],p))\n",
    "for i in range(0,p):\n",
    "    Xpoly[:,i]=X[:,0]**(i+1)\n"
   ]
  },
  {
   "cell_type": "code",
   "execution_count": 49,
   "metadata": {},
   "outputs": [],
   "source": [
    "def polyFeatures(X, p):\n",
    "    #p=5\n",
    "    Xpoly=np.zeros((X.shape[0],p))\n",
    "    \n",
    "    for i in range(0,p):\n",
    "        Xpoly[:,i]=X[:,0]**(i+1)\n",
    "\n",
    "    return Xpoly"
   ]
  },
  {
   "cell_type": "code",
   "execution_count": 65,
   "metadata": {
    "scrolled": true
   },
   "outputs": [
    {
     "data": {
      "text/plain": [
       "array([[-1.59367581e+01,  2.53980260e+02, -4.04762197e+03,\n",
       "         6.45059724e+04, -1.02801608e+06,  1.63832436e+07,\n",
       "        -2.61095791e+08,  4.16102047e+09, -6.63131769e+10],\n",
       "       [-2.91529792e+01,  8.49896197e+02, -2.47770062e+04,\n",
       "         7.22323546e+05, -2.10578833e+07,  6.13900035e+08,\n",
       "        -1.78970150e+10,  5.21751305e+11, -1.52106050e+13],\n",
       "       [ 3.61895486e+01,  1.30968343e+03,  4.73968522e+04,\n",
       "         1.71527069e+06,  6.20748719e+07,  2.24646160e+09,\n",
       "         8.12984311e+10,  2.94215353e+12,  1.06475208e+14],\n",
       "       [ 3.74921873e+01,  1.40566411e+03,  5.27014222e+04,\n",
       "         1.97589159e+06,  7.40804977e+07,  2.77743990e+09,\n",
       "         1.04132297e+11,  3.90414759e+12,  1.46375033e+14],\n",
       "       [-4.80588295e+01,  2.30965109e+03, -1.10999128e+05,\n",
       "         5.33448815e+06, -2.56369256e+08,  1.23208064e+10,\n",
       "        -5.92123532e+11,  2.84567638e+13, -1.36759876e+15],\n",
       "       [-8.94145794e+00,  7.99496701e+01, -7.14866612e+02,\n",
       "         6.39194974e+03, -5.71533498e+04,  5.11034273e+05,\n",
       "        -4.56939146e+06,  4.08570215e+07, -3.65321339e+08],\n",
       "       [ 1.53077929e+01,  2.34328523e+02,  3.58705250e+03,\n",
       "         5.49098568e+04,  8.40548715e+05,  1.28669456e+07,\n",
       "         1.96964539e+08,  3.01509237e+09,  4.61544095e+10],\n",
       "       [-3.47062658e+01,  1.20452489e+03, -4.18045609e+04,\n",
       "         1.45088020e+06, -5.03546340e+07,  1.74762131e+09,\n",
       "        -6.06534098e+10,  2.10505336e+12, -7.30585415e+13],\n",
       "       [ 1.38915437e+00,  1.92974986e+00,  2.68072045e+00,\n",
       "         3.72393452e+00,  5.17311991e+00,  7.18626212e+00,\n",
       "         9.98282742e+00,  1.38676883e+01,  1.92643598e+01],\n",
       "       [-4.43837599e+01,  1.96991814e+03, -8.74323736e+04,\n",
       "         3.88057747e+06, -1.72234619e+08,  7.64441995e+09,\n",
       "        -3.39288099e+11,  1.50588815e+13, -6.68369781e+14],\n",
       "       [ 7.01350208e+00,  4.91892115e+01,  3.44988637e+02,\n",
       "         2.41957852e+03,  1.69697190e+04,  1.19017160e+05,\n",
       "         8.34727097e+05,  5.85436023e+06,  4.10595677e+07],\n",
       "       [ 2.27627489e+01,  5.18142738e+02,  1.17943531e+04,\n",
       "         2.68471897e+05,  6.11115839e+06,  1.39106764e+08,\n",
       "         3.16645234e+09,  7.20771597e+10,  1.64067429e+12]])"
      ]
     },
     "execution_count": 65,
     "metadata": {},
     "output_type": "execute_result"
    }
   ],
   "source": [
    "Xpoly=polyFeatures(X,9)\n",
    "Xpoly"
   ]
  },
  {
   "cell_type": "code",
   "execution_count": 70,
   "metadata": {},
   "outputs": [
    {
     "data": {
      "text/plain": [
       "array([[-0.36214078, -0.75508669,  0.18222588, -0.70618991,  0.30661792,\n",
       "        -0.59087767,  0.3445158 , -0.50848117,  0.35954927],\n",
       "       [-0.80320484,  0.00125825, -0.24793699, -0.32702342,  0.09339632,\n",
       "        -0.43581761,  0.25541612, -0.44891249,  0.3245881 ],\n",
       "       [ 1.377467  ,  0.58482672,  1.24976856,  0.24531197,  0.9783597 ,\n",
       "        -0.0121557 ,  0.75656848, -0.17035211,  0.60550439],\n",
       "       [ 1.42093988,  0.70664675,  1.35984559,  0.39553404,  1.10616178,\n",
       "         0.12563713,  0.87192908, -0.05963769,  0.69761464],\n",
       "       [-1.43414853,  1.85399982, -2.03716308,  2.33143133, -2.41153626,\n",
       "         2.60221195, -2.64567451,  2.76608525, -2.79745098],\n",
       "       [-0.12868709, -0.97596878,  0.25138508, -0.73968687,  0.31695293,\n",
       "        -0.59499663,  0.34581181, -0.50895535,  0.35970151],\n",
       "       [ 0.68058155, -0.78002895,  0.34065574, -0.71172112,  0.32650913,\n",
       "        -0.59179018,  0.34683   , -0.50861305,  0.3598089 ],\n",
       "       [-0.98853431,  0.451358  , -0.60128187,  0.09291712, -0.21847295,\n",
       "        -0.14160847,  0.03940349, -0.26669269,  0.19104395],\n",
       "       [ 0.21607575, -1.07499276,  0.26627516, -0.74336905,  0.31756139,\n",
       "        -0.59512925,  0.3458349 , -0.50896005,  0.35970235],\n",
       "       [-1.31150068,  1.42280595, -1.54812094,  1.49339625, -1.51590767,\n",
       "         1.38865478, -1.36830664,  1.22414353, -1.1832545 ],\n",
       "       [ 0.40377674, -1.01501039,  0.27337851, -0.74197655,  0.31774198,\n",
       "        -0.59509836,  0.34583911, -0.50895938,  0.35970245],\n",
       "       [ 0.92937531, -0.41980793,  0.51096837, -0.58862381,  0.38261573,\n",
       "        -0.55903   ,  0.36183236, -0.5006648 ,  0.36348991]])"
      ]
     },
     "execution_count": 70,
     "metadata": {},
     "output_type": "execute_result"
    }
   ],
   "source": [
    "#aplikuje poly features do zbiorow treningowych i testowych\n",
    "#wraz z normalizacja\n",
    "\n",
    "p=9\n",
    "Xpoly=polyFeatures(X,p)\n",
    "\n",
    "for i in range(0,Xpoly.shape[1]): \n",
    "    Xpoly[:,i]=(Xpoly[:,i]-np.mean(Xpoly[:,i],axis=0))/np.std(Xpoly[:,i],axis=0,ddof=1)\n",
    "   \n",
    "Xpoly\n"
   ]
  },
  {
   "cell_type": "code",
   "execution_count": 75,
   "metadata": {},
   "outputs": [],
   "source": [
    "def normalize(Xpoly):\n",
    "    mu=np.mean(Xpoly,axis=0)\n",
    "    sigma=np.std(Xpoly,axis=0,ddof=1)\n",
    "#     for i in range(0,Xpoly.shape[1]): \n",
    "#         Xpoly[:,i]=(Xpoly[:,i]-np.mean(Xpoly[:,i],axis=0))/np.std(Xpoly[:,i],axis=0,ddof=1)\n",
    "    X_norm=(Xpoly-mu)/sigma\n",
    "    return X_norm,mu,sigma"
   ]
  },
  {
   "cell_type": "code",
   "execution_count": 181,
   "metadata": {
    "scrolled": true
   },
   "outputs": [
    {
     "data": {
      "text/plain": [
       "array([ 1.        , -0.36214078, -0.75508669,  0.18222588, -0.70618991,\n",
       "        0.30661792, -0.59087767,  0.3445158 , -0.50848117,  0.35954927])"
      ]
     },
     "execution_count": 181,
     "metadata": {},
     "output_type": "execute_result"
    }
   ],
   "source": [
    "p=9\n",
    "Xpoly=polyFeatures(X,p)\n",
    "Xpoly,mu,sigma=normalize(Xpoly)\n",
    "Xpoly=np.concatenate([np.ones((Xpoly.shape[0],1)),Xpoly],axis=1)\n",
    "\n",
    "#Xpoly\n",
    "Xpoly_test=polyFeatures(Xtest,p)\n",
    "Xpoly_test=(Xpoly_test-mu)/sigma\n",
    "Xpoly_test=np.concatenate([np.ones((Xpoly_test.shape[0],1)),Xpoly_test],axis=1)\n",
    "\n",
    "\n",
    "Xpoly_val=polyFeatures(Xval,p)\n",
    "Xpoly_val=(Xpoly_val-mu)/sigma\n",
    "Xpoly_val=np.concatenate([np.ones((Xpoly_val.shape[0],1)),Xpoly_val],axis=1)\n",
    "\n",
    "Xpoly[0, :]"
   ]
  },
  {
   "cell_type": "markdown",
   "metadata": {},
   "source": [
    "## 3.1 Learning Polynomial Regression"
   ]
  },
  {
   "cell_type": "code",
   "execution_count": 129,
   "metadata": {},
   "outputs": [],
   "source": [
    "\n",
    "def learn(X,y,lambda_):\n",
    "    initial_theta=np.zeros((X.shape[1]))\n",
    "    f= lambda t : linearRegCostFunction(X,y,t,lambda_)\n",
    "    res= optimize.minimize(f, initial_theta, jac=True\n",
    "                             , method='TNC'\n",
    "                             , options={\"maxiter\":100 })\n",
    "    theta=res.x\n",
    "    return theta"
   ]
  },
  {
   "cell_type": "code",
   "execution_count": 134,
   "metadata": {},
   "outputs": [],
   "source": [
    "theta=learn(Xpoly,y,100)"
   ]
  },
  {
   "cell_type": "code",
   "execution_count": 133,
   "metadata": {},
   "outputs": [],
   "source": [
    "theta=0"
   ]
  },
  {
   "cell_type": "code",
   "execution_count": 136,
   "metadata": {},
   "outputs": [
    {
     "data": {
      "text/plain": [
       "[<matplotlib.lines.Line2D at 0x236d78c2ba8>]"
      ]
     },
     "execution_count": 136,
     "metadata": {},
     "output_type": "execute_result"
    },
    {
     "data": {
      "image/png": "[encoded data removed]",
      "text/plain": [
       "<Figure size 432x288 with 1 Axes>"
      ]
     },
     "metadata": {
      "needs_background": "light"
     },
     "output_type": "display_data"
    }
   ],
   "source": [
    "    min_x=np.min(X)\n",
    "    max_x=np.max(X)\n",
    "    \n",
    "    x = np.arange(min_x - 15, max_x + 25, 0.05).reshape(-1, 1)\n",
    "\n",
    "    # Map the X values\n",
    "    X_poly3 = polyFeatures(x, p)\n",
    "    X_poly3 -= mu\n",
    "    X_poly3 /= sigma\n",
    "\n",
    "    # Add ones\n",
    "    X_poly3 = np.concatenate([np.ones((x.shape[0], 1)), X_poly3], axis=1)\n",
    "\n",
    "    # Plot\n",
    "    pyplot.plot(x, np.dot(X_poly3, theta), '--', lw=2)\n",
    "    pyplot.plot(X, y, 'ro', ms=10, mew=1.5, mec='k')"
   ]
  },
  {
   "cell_type": "code",
   "execution_count": null,
   "metadata": {},
   "outputs": [],
   "source": [
    "#not work\n",
    "pyplot.plot(x,Xpoly.dot(theta),'--', lw=2)\n",
    "pyplot.plot(X,y,'ro',ms=10)"
   ]
  },
  {
   "cell_type": "code",
   "execution_count": 157,
   "metadata": {},
   "outputs": [
    {
     "data": {
      "text/plain": [
       "12"
      ]
     },
     "execution_count": 157,
     "metadata": {},
     "output_type": "execute_result"
    }
   ],
   "source": [
    "error_train\n",
    "m"
   ]
  },
  {
   "cell_type": "code",
   "execution_count": 155,
   "metadata": {},
   "outputs": [
    {
     "name": "stdout",
     "output_type": "stream",
     "text": [
      "1\n",
      "2\n",
      "3\n",
      "4\n",
      "5\n",
      "6\n",
      "7\n",
      "8\n",
      "9\n",
      "10\n",
      "11\n",
      "12\n"
     ]
    },
    {
     "data": {
      "text/plain": [
       "''"
      ]
     },
     "execution_count": 155,
     "metadata": {},
     "output_type": "execute_result"
    },
    {
     "data": {
      "image/png": "[encoded data removed]",
      "text/plain": [
       "<Figure size 432x288 with 1 Axes>"
      ]
     },
     "metadata": {
      "needs_background": "light"
     },
     "output_type": "display_data"
    }
   ],
   "source": [
    "pyplot.figure()\n",
    "error_train, error_val=learningCurve(Xpoly, y, Xpoly_val, yval, lambda_)\n",
    "pyplot.plot(np.arange(1, 1+m), error_train, np.arange(1, 1+m), error_val)\n",
    ";\n",
    "\n"
   ]
  },
  {
   "cell_type": "markdown",
   "metadata": {},
   "source": [
    "\n",
    "### 3.2 Adjusting the regularization parameter"
   ]
  },
  {
   "cell_type": "code",
   "execution_count": 161,
   "metadata": {},
   "outputs": [
    {
     "data": {
      "text/plain": [
       "array([ 2.13431051,  1.17325668, 34.35910918, 36.83795516,  2.80896507,\n",
       "        2.12107248, 14.71026831,  2.61418439,  3.74017167,  3.73169131,\n",
       "        7.62765885, 22.7524283 ])"
      ]
     },
     "execution_count": 161,
     "metadata": {},
     "output_type": "execute_result"
    }
   ],
   "source": [
    "#wybierz dobra lambde\n",
    "\n"
   ]
  },
  {
   "cell_type": "code",
   "execution_count": 194,
   "metadata": {},
   "outputs": [],
   "source": [
    "def validationCurve(X, y, Xval, yval):\n",
    "\n",
    "    # Selected values of lambda (you should not change this)\n",
    "    lambda_vec = [0, 0.001, 0.003, 0.01, 0.03, 0.1, 0.3, 1, 3, 10]\n",
    "\n",
    "    # You need to return these variables correctly.\n",
    "    error_train = np.zeros(len(lambda_vec))\n",
    "    error_val = np.zeros(len(lambda_vec))\n",
    "\n",
    "    for i in range(0,len(lambda_vec)):\n",
    "        lambda_=lambda_vec[i]\n",
    "\n",
    "        theta=learn(X,y,lambda_)\n",
    "        #theta = utils.trainLinearReg(linearRegCostFunction, X, y, lambda_=lambda_)\n",
    "       \n",
    "        error_train[i], _=linearRegCostFunction(X, y, theta, lambda_)\n",
    "        error_val[i], _=linearRegCostFunction(Xval, yval, theta, lambda_)\n",
    "    return lambda_vec, error_train, error_val"
   ]
  },
  {
   "cell_type": "code",
   "execution_count": 197,
   "metadata": {},
   "outputs": [],
   "source": [
    "lambda_vec, error_train, error_val=validationCurve(Xpoly,y, Xpoly_val,yval)"
   ]
  },
  {
   "cell_type": "code",
   "execution_count": 198,
   "metadata": {},
   "outputs": [
    {
     "name": "stdout",
     "output_type": "stream",
     "text": [
      "lambda\t\tTrain Error\tValidation Error\n",
      " 0.000000\t0.033313\t72.519739\n",
      " 0.001000\t0.141285\t9.193895\n",
      " 0.003000\t0.226783\t8.853862\n",
      " 0.010000\t0.379813\t13.824092\n",
      " 0.030000\t0.669203\t12.832819\n",
      " 0.100000\t1.443448\t8.102986\n",
      " 0.300000\t3.097416\t5.813269\n",
      " 1.000000\t7.244073\t7.486771\n",
      " 3.000000\t15.793216\t10.248908\n",
      " 10.000000\t33.161293\t19.167199\n"
     ]
    },
    {
     "data": {
      "image/png": "[encoded data removed]",
      "text/plain": [
       "<Figure size 432x288 with 1 Axes>"
      ]
     },
     "metadata": {
      "needs_background": "light"
     },
     "output_type": "display_data"
    }
   ],
   "source": [
    "pyplot.plot(lambda_vec,error_train, lambda_vec, error_val);\n",
    "\n",
    "print('lambda\\t\\tTrain Error\\tValidation Error')\n",
    "for i in range(len(lambda_vec)):\n",
    "    print(' %f\\t%f\\t%f' % (lambda_vec[i], error_train[i], error_val[i]))"
   ]
  },
  {
   "cell_type": "code",
   "execution_count": null,
   "metadata": {},
   "outputs": [],
   "source": []
  },
  {
   "cell_type": "code",
   "execution_count": null,
   "metadata": {},
   "outputs": [],
   "source": []
  },
  {
   "cell_type": "code",
   "execution_count": null,
   "metadata": {},
   "outputs": [],
   "source": []
  }
 ],
 "metadata": {
  "kernelspec": {
   "display_name": "Python 3",
   "language": "python",
   "name": "python3"
  },
  "language_info": {
   "codemirror_mode": {
    "name": "ipython",
    "version": 3
   },
   "file_extension": ".py",
   "mimetype": "text/x-python",
   "name": "python",
   "nbconvert_exporter": "python",
   "pygments_lexer": "ipython3",
   "version": "3.7.6"
  }
 },
 "nbformat": 4,
 "nbformat_minor": 2
}
